{
 "cells": [
  {
   "cell_type": "code",
   "execution_count": 1,
   "metadata": {},
   "outputs": [],
   "source": [
    "from qiskit import *\n",
    "import numpy as np\n",
    "from qiskit.visualization import plot_histogram\n",
    "import qiskit.tools.jupyter\n",
    "import matplotlib.pyplot as plt\n",
    "from math import gcd\n",
    "from numpy.random import randint\n",
    "from fractions import Fraction"
   ]
  },
  {
   "cell_type": "code",
   "execution_count": 2,
   "metadata": {},
   "outputs": [],
   "source": [
    "class Shor:\n",
    "    def __init__(self):\n",
    "        self.N = 15\n",
    "        self.m = int(np.ceil(np.log2(self.N))) # Quantum registers\n",
    "        self.t = 3                             # Classic registers\n",
    "        self.qc = QuantumCircuit(self.t+self.m, self.t)\n",
    "        \n",
    "        self.qc.h(range(self.t))\n",
    "        self.qc.x(self.t)\n",
    "        for i in range(self.t-1):\n",
    "            self.qc.append(self.multi_7mod15_cgate(i), [i]+ list(range(self.t,self.t+self.m)))\n",
    "\n",
    "        qft_dag = Shor.qft_qc(self.t).inverse()\n",
    "        qft_dag.name = 'QFT+'\n",
    "\n",
    "        self.qc.append(qft_dag, range(self.t))\n",
    "        self.qc.measure(range(self.t), range(self.t))\n",
    "    \n",
    "    def _7mod15_gate(self):\n",
    "        U_qc = QuantumCircuit(self.m)\n",
    "        U_qc.x(range(self.m))\n",
    "        U_qc.swap(1, 2)\n",
    "        U_qc.swap(2, 3)\n",
    "        U_qc.swap(0, 3)\n",
    "        U = U_qc.to_gate()\n",
    "        U.name ='{}Mod{}'.format(7, self.N)\n",
    "        return U\n",
    "    \n",
    "    \"\"\"K times 7mod15 control gate\"\"\"\n",
    "    def multi_7mod15_cgate(self, k):\n",
    "        qc = QuantumCircuit(self.m)\n",
    "        U = self._7mod15_gate()\n",
    "        for _ in range(2**k):\n",
    "            qc.append(U, range(self.m))\n",
    "    \n",
    "        U_multi = qc.to_gate()\n",
    "        U_multi.name = '7Mod15_[2^{}]'.format(k)\n",
    "    \n",
    "        cU_multi = U_multi.control()\n",
    "        return cU_multi\n",
    "    \n",
    "    \"\"\"N-qubit Quantum fourier transformr circuit\"\"\"\n",
    "    @staticmethod\n",
    "    def qft_qc(n):\n",
    "        qc = QuantumCircuit(n)\n",
    "        \n",
    "        def swap_registers(circuit, n):\n",
    "            for qubit in range(n//2):\n",
    "                qc.swap(qubit, n-qubit-1)\n",
    "            return qc\n",
    "        \n",
    "        def qft_rotations(circuit, n):\n",
    "            \"\"\"Performs qft on the first n qubits in circuit (without swaps)\"\"\"\n",
    "            if n == 0:\n",
    "                return circuit\n",
    "            n -= 1\n",
    "            qc.h(n)\n",
    "            for qubit in range(n):\n",
    "                qc.cp(np.pi/2**(n-qubit), qubit, n)\n",
    "            qft_rotations(qc, n)\n",
    "\n",
    "        qft_rotations(qc, n)\n",
    "        swap_registers(qc, n)\n",
    "        return qc\n",
    "    \n",
    "    def draw(self):\n",
    "        self.qc.draw()\n",
    "        \n",
    "    def get_qc(self):\n",
    "        return self.qc\n",
    "    \n",
    "    "
   ]
  },
  {
   "cell_type": "code",
   "execution_count": 3,
   "metadata": {},
   "outputs": [
    {
     "data": {
      "text/html": [
       "<pre style=\"word-wrap: normal;white-space: pre;background: #fff0;line-height: 1.1;font-family: &quot;Courier New&quot;,Courier,monospace\">     ┌───┐                                  ┌───────┐┌─┐      \n",
       "q_0: ┤ H ├────────■─────────────────────────┤0      ├┤M├──────\n",
       "     ├───┤        │                         │       │└╥┘┌─┐   \n",
       "q_1: ┤ H ├────────┼────────────────■────────┤1 QFT+ ├─╫─┤M├───\n",
       "     ├───┤        │                │        │       │ ║ └╥┘┌─┐\n",
       "q_2: ┤ H ├────────┼────────────────┼────────┤2      ├─╫──╫─┤M├\n",
       "     ├───┤┌───────┴───────┐┌───────┴───────┐└───────┘ ║  ║ └╥┘\n",
       "q_3: ┤ X ├┤0              ├┤0              ├──────────╫──╫──╫─\n",
       "     └───┘│               ││               │          ║  ║  ║ \n",
       "q_4: ─────┤1              ├┤1              ├──────────╫──╫──╫─\n",
       "          │  7Mod15_[2^0] ││  7Mod15_[2^1] │          ║  ║  ║ \n",
       "q_5: ─────┤2              ├┤2              ├──────────╫──╫──╫─\n",
       "          │               ││               │          ║  ║  ║ \n",
       "q_6: ─────┤3              ├┤3              ├──────────╫──╫──╫─\n",
       "          └───────────────┘└───────────────┘          ║  ║  ║ \n",
       "c: 3/═════════════════════════════════════════════════╩══╩══╩═\n",
       "                                                      0  1  2 </pre>"
      ],
      "text/plain": [
       "     ┌───┐                                  ┌───────┐┌─┐      \n",
       "q_0: ┤ H ├────────■─────────────────────────┤0      ├┤M├──────\n",
       "     ├───┤        │                         │       │└╥┘┌─┐   \n",
       "q_1: ┤ H ├────────┼────────────────■────────┤1 QFT+ ├─╫─┤M├───\n",
       "     ├───┤        │                │        │       │ ║ └╥┘┌─┐\n",
       "q_2: ┤ H ├────────┼────────────────┼────────┤2      ├─╫──╫─┤M├\n",
       "     ├───┤┌───────┴───────┐┌───────┴───────┐└───────┘ ║  ║ └╥┘\n",
       "q_3: ┤ X ├┤0              ├┤0              ├──────────╫──╫──╫─\n",
       "     └───┘│               ││               │          ║  ║  ║ \n",
       "q_4: ─────┤1              ├┤1              ├──────────╫──╫──╫─\n",
       "          │  7Mod15_[2^0] ││  7Mod15_[2^1] │          ║  ║  ║ \n",
       "q_5: ─────┤2              ├┤2              ├──────────╫──╫──╫─\n",
       "          │               ││               │          ║  ║  ║ \n",
       "q_6: ─────┤3              ├┤3              ├──────────╫──╫──╫─\n",
       "          └───────────────┘└───────────────┘          ║  ║  ║ \n",
       "c: 3/═════════════════════════════════════════════════╩══╩══╩═\n",
       "                                                      0  1  2 "
      ]
     },
     "execution_count": 3,
     "metadata": {},
     "output_type": "execute_result"
    }
   ],
   "source": [
    "shor = Shor()\n",
    "shor_qc = shor.get_qc()\n",
    "shor_qc.draw()"
   ]
  },
  {
   "cell_type": "code",
   "execution_count": 4,
   "metadata": {},
   "outputs": [],
   "source": [
    "sim = Aer.get_backend('aer_simulator')\n",
    "shots = 20000\n",
    "shor_trans = transpile(shor_qc, sim)\n",
    "result = sim.run(shor_trans, shots=shots, memory=True).result() \n",
    "count = result.get_counts()\n",
    "key_new = [str(int(key,2)/2**3) for key in count.keys()]\n",
    "count_new = dict(zip(key_new, count.values()))\n",
    "#plot_histogram(count_new)"
   ]
  },
  {
   "cell_type": "code",
   "execution_count": 5,
   "metadata": {},
   "outputs": [],
   "source": [
    "def amod15():\n",
    "    sim = Aer.get_backend('aer_simulator')\n",
    "    shots = 20000\n",
    "    shor_trans = transpile(shor_qc, sim)\n",
    "    result = sim.run(shor_trans, shots=shots, memory=True).result() \n",
    "    count = result.get_counts()\n",
    "    key_new = [str(int(key,2)/2**3) for key in count.keys()]\n",
    "    count_new = dict(zip(key_new, count.values()))\n",
    "    readings = result.get_memory()\n",
    "    print(\"Register Reading: \" + readings[0])\n",
    "    phase = int(readings[0],2)/(2**shor.m)\n",
    "    print(\"Corresponding Phase: %f\" % phase)\n",
    "    return phase"
   ]
  },
  {
   "cell_type": "code",
   "execution_count": 6,
   "metadata": {},
   "outputs": [
    {
     "name": "stdout",
     "output_type": "stream",
     "text": [
      "\n",
      "Attempt 1:\n",
      "Register Reading: 100\n",
      "Corresponding Phase: 0.250000\n",
      "Result: r = 4\n",
      "Guessed Factors: 3 and 5\n",
      "*** Non-trivial factor found: 3 ***\n",
      "*** Non-trivial factor found: 5 ***\n"
     ]
    }
   ],
   "source": [
    "a = 7\n",
    "factor_found = False\n",
    "attempt = 0\n",
    "while not factor_found:\n",
    "    attempt += 1\n",
    "    print(\"\\nAttempt %i:\" % attempt)\n",
    "    phase = amod15()\n",
    "    frac = Fraction(phase).limit_denominator(shor.N)\n",
    "    r = frac.denominator\n",
    "    print(\"Result: r = %i\" % r)\n",
    "    if phase != 0:\n",
    "        guesses = [gcd(a**(r//2)-1, shor.N), gcd(a**(r//2)+1, shor.N)]\n",
    "        print(\"Guessed Factors: %i and %i\" % (guesses[0], guesses[1]))\n",
    "        for guess in guesses:\n",
    "            if guess not in [1,shor.N] and (shor.N % guess) == 0:\n",
    "                print(\"*** Non-trivial factor found: %i ***\" % guess)\n",
    "                factor_found = True\n"
   ]
  }
 ],
 "metadata": {
  "kernelspec": {
   "display_name": "shor",
   "language": "python",
   "name": "shor"
  },
  "language_info": {
   "codemirror_mode": {
    "name": "ipython",
    "version": 3
   },
   "file_extension": ".py",
   "mimetype": "text/x-python",
   "name": "python",
   "nbconvert_exporter": "python",
   "pygments_lexer": "ipython3",
   "version": "3.8.10"
  }
 },
 "nbformat": 4,
 "nbformat_minor": 4
}
