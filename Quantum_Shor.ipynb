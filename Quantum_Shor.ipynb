{
 "cells": [
  {
   "cell_type": "code",
   "execution_count": 1,
   "metadata": {},
   "outputs": [],
   "source": [
    "from qiskit import *\n",
    "import numpy as np\n",
    "from qiskit.visualization import plot_histogram\n",
    "import qiskit.tools.jupyter\n",
    "import matplotlib.pyplot as plt\n",
    "from math import gcd\n",
    "from numpy.random import randint\n",
    "from fractions import Fraction"
   ]
  },
  {
   "cell_type": "markdown",
   "metadata": {},
   "source": [
    "## The Problem: Period Finding\n",
    "\n",
    "Let’s look at the periodic function:\n",
    "\n",
    "$$ f(x) = a^x \\bmod{N}$$\n",
    "\n",
    "$$a^r \\bmod N = 1 $$ \n",
    "\n",
    "a and N are co-prime"
   ]
  },
  {
   "cell_type": "markdown",
   "metadata": {},
   "source": [
    "## The Solution\n",
    "\n",
    "Shor’s solution was to use quantum phase estimation on the unitary operator to find the period:\n",
    "\n",
    "$$ U|y\\rangle \\equiv |ay \\bmod N \\rangle $$\n",
    "\n",
    "\n",
    "$$\\begin{aligned}\n",
    "U|1\\rangle &= |a_1\\rangle & \\\\\n",
    "U^2|1\\rangle &= |a_2\\rangle \\\\\n",
    "U^3|1\\rangle &= |a_3\\rangle \\\\\n",
    "& \\vdots \\\\\n",
    "U^{(r-1)}|1\\rangle &= |a_{r-1}\\rangle \\\\\n",
    "U^r|1\\rangle &= |a_1\\rangle \n",
    "\\end{aligned}$$"
   ]
  },
  {
   "cell_type": "markdown",
   "metadata": {},
   "source": [
    "So a superposition of the states in this cycle ($|u_0\\rangle$) would be an eigenstate of $U$:\n",
    "\n",
    "$$|u_0\\rangle = \\tfrac{1}{\\sqrt{r}}\\sum_{k=0}^{r-1}{|a^k \\bmod N\\rangle} $$\n",
    "\n",
    "$$\\begin{aligned}\n",
    "|u_1\\rangle &= \\tfrac{1}{\\sqrt{r}}\\sum_{k=0}^{r-1}{e^{-\\tfrac{2\\pi i k}{r}}|a^k \\bmod N\\rangle}\\\\[10pt]\n",
    "U|u_1\\rangle &= e^{\\tfrac{2\\pi i}{r}}|u_1\\rangle \n",
    "\\end{aligned}\n",
    "$$\n",
    "\n",
    "$$\\begin{aligned}\n",
    "|u_s\\rangle &= \\tfrac{1}{\\sqrt{r}}\\sum_{k=0}^{r-1}{e^{-\\tfrac{2\\pi i s k}{r}}|a^k \\bmod N\\rangle}\\\\[10pt]\n",
    "U|u_s\\rangle &= e^{\\tfrac{2\\pi i s}{r}}|u_s\\rangle \n",
    "\\end{aligned}\n",
    "$$\n",
    "\n",
    "We now have a unique eigenstate for each integer value of $s$ where $$0 \\leq s \\leq r-1.$$ If we sum up all these eigenstates, the different phases cancel out all computational basis states except $|1\\rangle$:\n",
    "\n",
    "$$ \\tfrac{1}{\\sqrt{r}}\\sum_{s=0}^{r-1} |u_s\\rangle = |1\\rangle$$\n",
    "\n",
    "\n",
    "\n",
    "Since the computational basis state $|1\\rangle$ is a superposition of these eigenstates, which means if we do QPE on $U$ using the state $|1\\rangle$, we will measure a phase:\n",
    "\n",
    "$$\\phi = \\frac{s}{r}$$\n"
   ]
  },
  {
   "cell_type": "markdown",
   "metadata": {},
   "source": [
    "If we have $r$, we might be able to use this to find a factor of $N$. Since:\n",
    "\n",
    "$$a^r \\bmod N = 1 $$\n",
    "\n",
    "then:\n",
    "\n",
    "$$(a^r - 1) \\bmod N = 0 $$\n",
    "\n",
    "and:\n",
    "\n",
    "$$a^r -1 = (a^{r/2}-1)(a^{r/2}+1)$$\n",
    "\n",
    "We can find primes of N by computing with random guessed a $$gcd(N,a^{r/2}\\pm1)$$ "
   ]
  },
  {
   "cell_type": "markdown",
   "metadata": {},
   "source": [
    "## The Quantum Circuit\n",
    "for a = 7 N = 15"
   ]
  },
  {
   "cell_type": "code",
   "execution_count": 9,
   "metadata": {},
   "outputs": [],
   "source": [
    "class Shor:\n",
    "    def __init__(self):\n",
    "        self.N = 15\n",
    "        self.m = int(np.ceil(np.log2(self.N))) # Quantum registers\n",
    "        self.t = 3                             # Classic registers\n",
    "        self.qc = QuantumCircuit(self.t+self.m, self.t)\n",
    "        \n",
    "        self.qc.h(range(self.t)) # Hadamard-gate \n",
    "        self.qc.x(self.t) # X-gate inverse\n",
    "        for i in range(self.t-1):\n",
    "            self.qc.append(self.multi_7mod15_cgate(i), [i]+ list(range(self.t,self.t+self.m)))\n",
    "\n",
    "        qft_dag = Shor.qft_qc(self.t).inverse()\n",
    "        qft_dag.name = 'QFT+'\n",
    "\n",
    "        self.qc.append(qft_dag, range(self.t))\n",
    "        self.qc.measure(range(self.t), range(self.t))\n",
    "    \n",
    "    def _7mod15_gate(self):\n",
    "        U_qc = QuantumCircuit(self.m)\n",
    "        U_qc.x(range(self.m))\n",
    "        U_qc.swap(1, 2)\n",
    "        U_qc.swap(2, 3)\n",
    "        U_qc.swap(0, 3)\n",
    "        U = U_qc.to_gate()\n",
    "        U.name ='{}Mod{}'.format(7, self.N)\n",
    "        return U\n",
    "    \n",
    "    \"\"\"2^K times 7mod15 control gate\"\"\"\n",
    "    def multi_7mod15_cgate(self, k):\n",
    "        qc = QuantumCircuit(self.m)\n",
    "        U = self._7mod15_gate()\n",
    "        for _ in range(2**k):\n",
    "            qc.append(U, range(self.m))\n",
    "    \n",
    "        U_multi = qc.to_gate()\n",
    "        U_multi.name = '7Mod15_[2^{}]'.format(k)\n",
    "    \n",
    "        cU_multi = U_multi.control()\n",
    "        return cU_multi\n",
    "    \n",
    "    \"\"\"N-qubit Quantum fourier transformr circuit\"\"\"\n",
    "    @staticmethod\n",
    "    def qft_qc(n):\n",
    "        qc = QuantumCircuit(n)\n",
    "        \n",
    "        def swap_registers(circuit, n):\n",
    "            for qubit in range(n//2):\n",
    "                qc.swap(qubit, n-qubit-1)\n",
    "            return qc\n",
    "        \n",
    "        def qft_rotations(circuit, n):\n",
    "            \"\"\"Performs qft on the first n qubits in circuit\"\"\"\n",
    "            if n == 0:\n",
    "                return circuit\n",
    "            n -= 1\n",
    "            qc.h(n)\n",
    "            for qubit in range(n):\n",
    "                qc.cp(np.pi/2**(n-qubit), qubit, n)\n",
    "            qft_rotations(qc, n)\n",
    "\n",
    "        qft_rotations(qc, n)\n",
    "        swap_registers(qc, n)\n",
    "        return qc\n",
    "    \n",
    "    def draw(self):\n",
    "        self.qc.draw()\n",
    "        \n",
    "    def get_qc(self):\n",
    "        return self.qc    "
   ]
  },
  {
   "cell_type": "code",
   "execution_count": 8,
   "metadata": {},
   "outputs": [
    {
     "data": {
      "text/html": [
       "<pre style=\"word-wrap: normal;white-space: pre;background: #fff0;line-height: 1.1;font-family: &quot;Courier New&quot;,Courier,monospace\">     ┌───┐                                  ┌───────┐┌─┐      \n",
       "q_0: ┤ H ├────────■─────────────────────────┤0      ├┤M├──────\n",
       "     ├───┤        │                         │       │└╥┘┌─┐   \n",
       "q_1: ┤ H ├────────┼────────────────■────────┤1 QFT+ ├─╫─┤M├───\n",
       "     ├───┤        │                │        │       │ ║ └╥┘┌─┐\n",
       "q_2: ┤ H ├────────┼────────────────┼────────┤2      ├─╫──╫─┤M├\n",
       "     ├───┤┌───────┴───────┐┌───────┴───────┐└───────┘ ║  ║ └╥┘\n",
       "q_3: ┤ X ├┤0              ├┤0              ├──────────╫──╫──╫─\n",
       "     └───┘│               ││               │          ║  ║  ║ \n",
       "q_4: ─────┤1              ├┤1              ├──────────╫──╫──╫─\n",
       "          │  7Mod15_[2^0] ││  7Mod15_[2^1] │          ║  ║  ║ \n",
       "q_5: ─────┤2              ├┤2              ├──────────╫──╫──╫─\n",
       "          │               ││               │          ║  ║  ║ \n",
       "q_6: ─────┤3              ├┤3              ├──────────╫──╫──╫─\n",
       "          └───────────────┘└───────────────┘          ║  ║  ║ \n",
       "c: 3/═════════════════════════════════════════════════╩══╩══╩═\n",
       "                                                      0  1  2 </pre>"
      ],
      "text/plain": [
       "     ┌───┐                                  ┌───────┐┌─┐      \n",
       "q_0: ┤ H ├────────■─────────────────────────┤0      ├┤M├──────\n",
       "     ├───┤        │                         │       │└╥┘┌─┐   \n",
       "q_1: ┤ H ├────────┼────────────────■────────┤1 QFT+ ├─╫─┤M├───\n",
       "     ├───┤        │                │        │       │ ║ └╥┘┌─┐\n",
       "q_2: ┤ H ├────────┼────────────────┼────────┤2      ├─╫──╫─┤M├\n",
       "     ├───┤┌───────┴───────┐┌───────┴───────┐└───────┘ ║  ║ └╥┘\n",
       "q_3: ┤ X ├┤0              ├┤0              ├──────────╫──╫──╫─\n",
       "     └───┘│               ││               │          ║  ║  ║ \n",
       "q_4: ─────┤1              ├┤1              ├──────────╫──╫──╫─\n",
       "          │  7Mod15_[2^0] ││  7Mod15_[2^1] │          ║  ║  ║ \n",
       "q_5: ─────┤2              ├┤2              ├──────────╫──╫──╫─\n",
       "          │               ││               │          ║  ║  ║ \n",
       "q_6: ─────┤3              ├┤3              ├──────────╫──╫──╫─\n",
       "          └───────────────┘└───────────────┘          ║  ║  ║ \n",
       "c: 3/═════════════════════════════════════════════════╩══╩══╩═\n",
       "                                                      0  1  2 "
      ]
     },
     "execution_count": 8,
     "metadata": {},
     "output_type": "execute_result"
    }
   ],
   "source": [
    "shor = Shor()\n",
    "shor_qc = shor.get_qc()\n",
    "shor_qc.draw()"
   ]
  },
  {
   "cell_type": "code",
   "execution_count": 4,
   "metadata": {},
   "outputs": [],
   "source": [
    "sim = Aer.get_backend('aer_simulator')\n",
    "shots = 20000\n",
    "shor_trans = transpile(shor_qc, sim)\n",
    "result = sim.run(shor_trans, shots=shots, memory=True).result() \n",
    "count = result.get_counts()\n",
    "key_new = [str(int(key,2)/2**3) for key in count.keys()]\n",
    "count_new = dict(zip(key_new, count.values()))\n",
    "#plot_histogram(count_new)"
   ]
  },
  {
   "cell_type": "code",
   "execution_count": 5,
   "metadata": {},
   "outputs": [],
   "source": [
    "def amod15():\n",
    "    sim = Aer.get_backend('aer_simulator')\n",
    "    shots = 20000\n",
    "    shor_trans = transpile(shor_qc, sim)\n",
    "    result = sim.run(shor_trans, shots=shots, memory=True).result() \n",
    "    count = result.get_counts()\n",
    "    key_new = [str(int(key,2)/2**3) for key in count.keys()]\n",
    "    count_new = dict(zip(key_new, count.values()))\n",
    "    readings = result.get_memory()\n",
    "    print(\"Register Reading: \" + readings[0])\n",
    "    phase = int(readings[0],2)/(2**shor.m)\n",
    "    print(\"Corresponding Phase: %f\" % phase)\n",
    "    return phase"
   ]
  },
  {
   "cell_type": "code",
   "execution_count": 6,
   "metadata": {},
   "outputs": [
    {
     "name": "stdout",
     "output_type": "stream",
     "text": [
      "\n",
      "Attempt 1:\n",
      "Register Reading: 000\n",
      "Corresponding Phase: 0.000000\n",
      "Result: r = 1\n",
      "\n",
      "Attempt 2:\n",
      "Register Reading: 100\n",
      "Corresponding Phase: 0.250000\n",
      "Result: r = 4\n",
      "Guessed Factors: 3 and 5\n",
      "*** Non-trivial factor found: 3 ***\n",
      "*** Non-trivial factor found: 5 ***\n"
     ]
    }
   ],
   "source": [
    "a = 7\n",
    "factor_found = False\n",
    "attempt = 0\n",
    "while not factor_found:\n",
    "    attempt += 1\n",
    "    print(\"\\nAttempt %i:\" % attempt)\n",
    "    phase = amod15()\n",
    "    frac = Fraction(phase).limit_denominator(shor.N)\n",
    "    r = frac.denominator\n",
    "    print(\"Result: r = %i\" % r)\n",
    "    if phase != 0:\n",
    "        guesses = [gcd(a**(r//2)-1, shor.N), gcd(a**(r//2)+1, shor.N)]\n",
    "        print(\"Guessed Factors: %i and %i\" % (guesses[0], guesses[1]))\n",
    "        for guess in guesses:\n",
    "            if guess not in [1,shor.N] and (shor.N % guess) == 0:\n",
    "                print(\"*** Non-trivial factor found: %i ***\" % guess)\n",
    "                factor_found = True\n"
   ]
  },
  {
   "cell_type": "markdown",
   "metadata": {},
   "source": [
    "## 6. References\n",
    "\n",
    "1. Stephane Beauregard, _Circuit for Shor's algorithm using 2n+3 qubits,_ [arXiv:quant-ph/0205095](https://arxiv.org/abs/quant-ph/0205095)\n",
    "\n",
    "2. [IBM Quantum Experience Shor's algorithm](https://quantum-computing.ibm.com/composer/docs/iqx/guide/shors-algorithm)"
   ]
  }
 ],
 "metadata": {
  "kernelspec": {
   "display_name": "shor",
   "language": "python",
   "name": "shor"
  },
  "language_info": {
   "codemirror_mode": {
    "name": "ipython",
    "version": 3
   },
   "file_extension": ".py",
   "mimetype": "text/x-python",
   "name": "python",
   "nbconvert_exporter": "python",
   "pygments_lexer": "ipython3",
   "version": "3.8.10"
  }
 },
 "nbformat": 4,
 "nbformat_minor": 4
}
